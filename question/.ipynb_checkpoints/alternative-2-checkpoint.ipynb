{
 "cells": [
  {
   "cell_type": "code",
   "execution_count": 1,
   "metadata": {
    "cell_id": "bdb40382-c842-480c-859f-3ec3f1dbd3ca",
    "tags": []
   },
   "outputs": [],
   "source": [
    "# Insert code here.\n",
    "with open('./alt_ques.txt') as infile:\n",
    "    ques_str=infile.read()"
   ]
  },
  {
   "cell_type": "code",
   "execution_count": 2,
   "metadata": {
    "cell_id": "ac1b6de4-df4c-410e-ab01-2bfe70a7d880",
    "tags": []
   },
   "outputs": [],
   "source": [
    "def chr_is_num(char):\n",
    "    if ord('0')<=ord(char)<=ord('9'):\n",
    "        return True\n",
    "    return False\n",
    "begin=True\n",
    "counter=0\n",
    "partitions=[]\n",
    "for i in range(len(ques_str)):\n",
    "    mychar=ques_str[i]\n",
    "    if mychar=='\\n':\n",
    "        begin=True\n",
    "        counter=0\n",
    "        continue\n",
    "    if begin or counter:\n",
    "        if chr_is_num(mychar):\n",
    "            counter+=1\n",
    "        elif mychar=='.':\n",
    "            partitions.append(i-counter)\n",
    "        else:\n",
    "            counter=0\n",
    "    begin=False\n",
    "partitions.append(len(ques_str))"
   ]
  },
  {
   "cell_type": "code",
   "execution_count": 7,
   "metadata": {
    "cell_id": "5a43ecf1-aac8-4053-830c-416c2e3ffec3",
    "tags": []
   },
   "outputs": [
    {
     "name": "stdout",
     "output_type": "stream",
     "text": [
      "8. Ken Toma, a CFA charterholder and securities analyst for the leisure\n",
      "services industry, has just completed an extensive review of the demand\n",
      "for beach vacations in Hawaii and concluded that the demand will far exceed the supply for the foreseeable future. Toma writes a research report stating, \"Based on the fact that the demand for Hawaiian beach vacations will exceed the supply of rooms for the foreseeable future, I recommend the purchase of shares of the Hawaiian Fund, a diversified portfolio of Hawaiian beachfront resorts.\" If Toma presents this report to his clients, he will have violated the CFA Institute Standards:\n",
      "\n",
      "A. because he did not distinguish between fact and opinion.\n",
      "B. by failing to have a reasonable and adequate basis for his recommendation.\n",
      "C. because he did not consider the suitability of the investment for his clients.\n",
      "\n",
      "8. A Standard V(B) Communication with Clients and Prospective Clients requires that Toma separate opinion from fact. Toma's statement that excess demand will persist into the foreseeable future is an opinion, not a fact.\n",
      "\n"
     ]
    }
   ],
   "source": [
    "import numpy as np\n",
    "num=np.random.randint(0,(len(partitions)-3)//2)\n",
    "print(ques_str[partitions[2*num]:partitions[2*num+1]])\n",
    "print(ques_str[partitions[2*num+1]:partitions[2*num+2]])"
   ]
  },
  {
   "cell_type": "code",
   "execution_count": 18,
   "metadata": {},
   "outputs": [],
   "source": [
    "questions=[]\n",
    "answers=[]\n",
    "for i in range((len(partitions)-1)//2):\n",
    "    questions.append(ques_str[partitions[2*i]:partitions[2*i+1]])\n",
    "    answers.append(ques_str[partitions[2*i+1]:partitions[2*i+2]])"
   ]
  },
  {
   "cell_type": "code",
   "execution_count": 19,
   "metadata": {},
   "outputs": [
    {
     "data": {
      "text/plain": [
       "'7. Not including the results of terminated accounts when calculating\\nhistorical performance is recommended by:\\nA. both GIPS and the Standard concerning performance presentation.\\nB. GIPS, but not by the Standard concerning performance presentation.\\nC. neither GIPS nor the Standard concerning performance presentation\\n'"
      ]
     },
     "execution_count": 19,
     "metadata": {},
     "output_type": "execute_result"
    }
   ],
   "source": [
    "questions[2]"
   ]
  },
  {
   "cell_type": "code",
   "execution_count": 24,
   "metadata": {},
   "outputs": [
    {
     "data": {
      "text/plain": [
       "(853, 601)"
      ]
     },
     "execution_count": 24,
     "metadata": {},
     "output_type": "execute_result"
    }
   ],
   "source": [
    "np.max(np.array([len(i) for i in questions])),np.max(np.array([len(i) for i in answers]))"
   ]
  },
  {
   "cell_type": "code",
   "execution_count": 21,
   "metadata": {},
   "outputs": [
    {
     "data": {
      "text/plain": [
       "135"
      ]
     },
     "execution_count": 21,
     "metadata": {},
     "output_type": "execute_result"
    }
   ],
   "source": [
    "np.min(np.array([len(i) for i in questions]))"
   ]
  },
  {
   "cell_type": "code",
   "execution_count": 28,
   "metadata": {
    "cell_id": "03209d7a-2fea-490f-9047-93bbaaad31c2",
    "tags": []
   },
   "outputs": [],
   "source": [
    "import sqlalchemy\n",
    "from sqlalchemy import create_engine\n",
    "engine = create_engine('sqlite:///question.db?check_same_thread=False', echo=False)"
   ]
  },
  {
   "cell_type": "code",
   "execution_count": 29,
   "metadata": {},
   "outputs": [],
   "source": [
    "from sqlalchemy.ext.declarative import declarative_base\n",
    "Base = declarative_base()"
   ]
  },
  {
   "cell_type": "code",
   "execution_count": 30,
   "metadata": {},
   "outputs": [],
   "source": [
    "from sqlalchemy import Column, Integer, String\n",
    "class Quest(Base):\n",
    "    __tablename__ = 'users'\n",
    "    id = Column(Integer, primary_key=True, autoincrement = True,nullable =True)\n",
    "    question = Column(String(1200))\n",
    "    answer = Column(String(800))\n",
    "    def __repr__(self):\n",
    "        return \"<Question={}, Answer={})>\".format(\n",
    "        self.question, self.answer)"
   ]
  },
  {
   "cell_type": "code",
   "execution_count": 32,
   "metadata": {},
   "outputs": [
    {
     "data": {
      "text/plain": [
       "Table('users', MetaData(bind=None), Column('id', Integer(), table=<users>, primary_key=True), Column('question', String(length=1200), table=<users>), Column('answer', String(length=800), table=<users>), schema=None)"
      ]
     },
     "execution_count": 32,
     "metadata": {},
     "output_type": "execute_result"
    }
   ],
   "source": [
    "Quest.__table__"
   ]
  },
  {
   "cell_type": "code",
   "execution_count": 31,
   "metadata": {},
   "outputs": [
    {
     "name": "stdout",
     "output_type": "stream",
     "text": [
      "users\n"
     ]
    }
   ],
   "source": [
    "Base.metadata.create_all(engine, checkfirst=True)"
   ]
  },
  {
   "cell_type": "code",
   "execution_count": 33,
   "metadata": {},
   "outputs": [],
   "source": [
    "from sqlalchemy.orm import sessionmaker\n",
    "Session = sessionmaker(bind=engine)\n",
    "session = Session()"
   ]
  },
  {
   "cell_type": "code",
   "execution_count": 35,
   "metadata": {},
   "outputs": [],
   "source": [
    "myls=[]\n",
    "for i in range((len(partitions)-1)//2):\n",
    "    myls.append(Quest(question=ques_str[partitions[2*i]:partitions[2*i+1]],\n",
    "                                        answer=ques_str[partitions[2*i+1]:partitions[2*i+2]]))"
   ]
  },
  {
   "cell_type": "code",
   "execution_count": 36,
   "metadata": {},
   "outputs": [],
   "source": [
    "session.add_all(myls)\n",
    "session.commit()"
   ]
  },
  {
   "cell_type": "code",
   "execution_count": 50,
   "metadata": {},
   "outputs": [
    {
     "data": {
      "text/plain": [
       "25"
      ]
     },
     "execution_count": 50,
     "metadata": {},
     "output_type": "execute_result"
    }
   ],
   "source": [
    "session.query(Quest).order_by(sqlalchemy.desc(Quest.id)).first().id"
   ]
  },
  {
   "cell_type": "code",
   "execution_count": 52,
   "metadata": {},
   "outputs": [
    {
     "name": "stdout",
     "output_type": "stream",
     "text": [
      "<User(Q=8. Ken Toma, a CFA charterholder and securities analyst for the leisure\n",
      "services industry, has just completed an extensive review of the demand\n",
      "for beach vacations in Hawaii and concluded that the demand will far exceed the supply for the foreseeable future. Toma writes a research report stating, \"Based on the fact that the demand for Hawaiian beach vacations will exceed the supply of rooms for the foreseeable future, I recommend the purchase of shares of the Hawaiian Fund, a diversified portfolio of Hawaiian beachfront resorts.\" If Toma presents this report to his clients, he will have violated the CFA Institute Standards:\n",
      "\n",
      "A. because he did not distinguish between fact and opinion.\n",
      "B. by failing to have a reasonable and adequate basis for his recommendation.\n",
      "C. because he did not consider the suitability of the investment for his clients.\n",
      ", A=8. A Standard V(B) Communication with Clients and Prospective Clients requires that Toma separate opinion from fact. Toma's statement that excess demand will persist into the foreseeable future is an opinion, not a fact.\n",
      ")>\n"
     ]
    }
   ],
   "source": [
    "import numpy as np\n",
    "num=np.random.randint(0,session.query(Quest).order_by(sqlalchemy.desc(Quest.id)).first().id-1)\n",
    "print(session.query(Quest).filter_by(id=num).first())\n",
    "    "
   ]
  },
  {
   "cell_type": "code",
   "execution_count": 54,
   "metadata": {},
   "outputs": [],
   "source": [
    "engine.dispose()"
   ]
  },
  {
   "cell_type": "code",
   "execution_count": null,
   "metadata": {},
   "outputs": [],
   "source": []
  }
 ],
 "metadata": {
  "deepnote_execution_queue": [],
  "deepnote_notebook_id": "b11640dc-aac1-4811-88e3-7c8ab8c11420",
  "kernelspec": {
   "display_name": "Python 3",
   "language": "python",
   "name": "python3"
  },
  "language_info": {
   "codemirror_mode": {
    "name": "ipython",
    "version": 3
   },
   "file_extension": ".py",
   "mimetype": "text/x-python",
   "name": "python",
   "nbconvert_exporter": "python",
   "pygments_lexer": "ipython3",
   "version": "3.6.4"
  }
 },
 "nbformat": 4,
 "nbformat_minor": 2
}
