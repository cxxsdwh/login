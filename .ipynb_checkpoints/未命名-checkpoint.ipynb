{
 "cells": [
  {
   "cell_type": "code",
   "execution_count": 1,
   "metadata": {},
   "outputs": [],
   "source": [
    "import sqlalchemy\n",
    "from sqlalchemy import create_engine\n",
    "engine = create_engine('sqlite:///mydb.db?check_same_thread=False', echo=False)"
   ]
  },
  {
   "cell_type": "code",
   "execution_count": 2,
   "metadata": {},
   "outputs": [],
   "source": [
    "from sqlalchemy.ext.declarative import declarative_base\n",
    "Base = declarative_base()"
   ]
  },
  {
   "cell_type": "code",
   "execution_count": 3,
   "metadata": {},
   "outputs": [],
   "source": [
    "from sqlalchemy import Column, Integer, String\n",
    "class User(Base):\n",
    "    __tablename__ = 'users'\n",
    "    id = Column(Integer, primary_key=True, autoincrement = True,nullable =True)\n",
    "    name = Column(String(50),index=True,unique=True)\n",
    "    password = Column(String(20))\n",
    "    time = Column(Integer,nullable=True)\n",
    "    def __repr__(self):\n",
    "        return \"<User(name={}, password={},time={})>\".format(\n",
    "        self.name, self.password,self.time)"
   ]
  },
  {
   "cell_type": "code",
   "execution_count": 4,
   "metadata": {},
   "outputs": [],
   "source": [
    "User.__table__\n",
    "Base.metadata.create_all(engine, checkfirst=True)"
   ]
  },
  {
   "cell_type": "markdown",
   "metadata": {},
   "source": [
    "try:\n",
    "    c=User(name='e', password='bbb')\n",
    "    session.add(c)\n",
    "    session.commit()\n",
    "except Exception as e:\n",
    "    session.rollback()"
   ]
  },
  {
   "cell_type": "code",
   "execution_count": 5,
   "metadata": {},
   "outputs": [],
   "source": [
    "import hashlib\n",
    "import time\n",
    "from sqlalchemy.orm import sessionmaker\n",
    "import hashlib\n",
    "\n",
    "Session = sessionmaker(bind=engine)\n",
    "session = Session()\n",
    "\n",
    "def myhash(mystr):\n",
    "    m=hashlib.md5()\n",
    "    m.update(mystr.encode(encoding='utf-8'))\n",
    "    return m.hexdigest()\n",
    "\n",
    "def myhash(mystr):\n",
    "    m=hashlib.md5()\n",
    "    m.update(mystr.encode(encoding='utf-8'))\n",
    "    return m.hexdigest()\n",
    "def session_key(usr):\n",
    "    tmp=time.time()\n",
    "    return myhash(usr+str(tmp)),tmp\n",
    "def creat_account(usr,passwd):\n",
    "    try:\n",
    "        ed_user = User(name=usr, password=passwd,time=int(time.time()))\n",
    "        session.add(ed_user)\n",
    "        session.commit()\n",
    "    except Exception as error:\n",
    "        print(error)\n",
    "        session.rollback()\n",
    "def query_user(usr):\n",
    "    return session.query(User).filter_by(name=usr).first()\n",
    "def renew_key(myusr):\n",
    "    myusr.time=int(time.time())\n",
    "    session.commit()\n",
    "    return myhash(str(myusr.id+myusr.time))\n",
    "def qualified(myusr,key):\n",
    "    real_key=myhash(str(myusr.id+myusr.time))\n",
    "    if (time.time()-myusr.time)<3600 and real_key==request.form['key']:\n",
    "        return True\n",
    "    return False"
   ]
  },
  {
   "cell_type": "code",
   "execution_count": 6,
   "metadata": {},
   "outputs": [
    {
     "data": {
      "text/plain": [
       "<User(name=a, password=bbb,time=1588054004)>"
      ]
     },
     "execution_count": 6,
     "metadata": {},
     "output_type": "execute_result"
    }
   ],
   "source": [
    "creat_account('a','bbb')\n",
    "query_user('a')"
   ]
  },
  {
   "cell_type": "code",
   "execution_count": 7,
   "metadata": {},
   "outputs": [
    {
     "data": {
      "text/plain": [
       "<User(name=a, password=bbb,time=1588054004)>"
      ]
     },
     "execution_count": 7,
     "metadata": {},
     "output_type": "execute_result"
    }
   ],
   "source": [
    "query_user('a')"
   ]
  },
  {
   "cell_type": "code",
   "execution_count": 8,
   "metadata": {},
   "outputs": [
    {
     "data": {
      "text/plain": [
       "1588054005"
      ]
     },
     "execution_count": 8,
     "metadata": {},
     "output_type": "execute_result"
    }
   ],
   "source": [
    "int(time.time())"
   ]
  },
  {
   "cell_type": "code",
   "execution_count": 9,
   "metadata": {},
   "outputs": [
    {
     "data": {
      "text/plain": [
       "14"
      ]
     },
     "execution_count": 9,
     "metadata": {},
     "output_type": "execute_result"
    }
   ],
   "source": [
    "len(time.strftime(\"%Y%m%d%H%M%S\", time.localtime()))"
   ]
  },
  {
   "cell_type": "code",
   "execution_count": null,
   "metadata": {},
   "outputs": [
    {
     "name": "stdout",
     "output_type": "stream",
     "text": [
      " * Serving Flask app \"__main__\" (lazy loading)\n",
      " * Environment: production\n",
      "   WARNING: Do not use the development server in a production environment.\n",
      "   Use a production WSGI server instead.\n",
      " * Debug mode: off\n"
     ]
    },
    {
     "name": "stderr",
     "output_type": "stream",
     "text": [
      " * Running on http://0.0.0.0:80/ (Press CTRL+C to quit)\n",
      "127.0.0.1 - - [28/Apr/2020 14:18:53] \"\u001b[33mGET / HTTP/1.1\u001b[0m\" 404 -\n",
      "127.0.0.1 - - [28/Apr/2020 14:19:13] \"\u001b[37mGET /usr HTTP/1.1\u001b[0m\" 200 -\n",
      "127.0.0.1 - - [28/Apr/2020 14:19:13] \"\u001b[37mPOST /usr/login HTTP/1.1\u001b[0m\" 200 -\n",
      "127.0.0.1 - - [28/Apr/2020 14:19:13] \"\u001b[33mGET /favicon.ico HTTP/1.1\u001b[0m\" 404 -\n"
     ]
    },
    {
     "name": "stdout",
     "output_type": "stream",
     "text": [
      "wrong passwd\n"
     ]
    },
    {
     "name": "stderr",
     "output_type": "stream",
     "text": [
      "127.0.0.1 - - [28/Apr/2020 14:19:22] \"\u001b[37mPOST /usr/login HTTP/1.1\u001b[0m\" 200 -\n"
     ]
    },
    {
     "name": "stdout",
     "output_type": "stream",
     "text": [
      "real passwd\n"
     ]
    },
    {
     "name": "stderr",
     "output_type": "stream",
     "text": [
      "127.0.0.1 - - [28/Apr/2020 14:19:22] \"\u001b[37mGET /usr/home HTTP/1.1\u001b[0m\" 200 -\n",
      "127.0.0.1 - - [28/Apr/2020 14:19:22] \"\u001b[33mGET /favicon.ico HTTP/1.1\u001b[0m\" 404 -\n",
      "127.0.0.1 - - [28/Apr/2020 14:19:26] \"\u001b[37mGET /usr HTTP/1.1\u001b[0m\" 200 -\n",
      "127.0.0.1 - - [28/Apr/2020 14:19:26] \"\u001b[37mPOST /usr/login HTTP/1.1\u001b[0m\" 200 -\n"
     ]
    },
    {
     "name": "stdout",
     "output_type": "stream",
     "text": [
      "wrong passwd\n"
     ]
    }
   ],
   "source": [
    "#!/Library/Frameworks/Python.framework/Versions/3.6/bin/python3\n",
    "#from urllib.parse import urlparse\n",
    "from flask import Flask, jsonify, request, render_template,Response\n",
    "from flask_cors import CORS\n",
    "import imageio\n",
    "# Instantiate the Node\n",
    "\n",
    "app = Flask(__name__)\n",
    "CORS(app)\n",
    "\n",
    "tmp=1\n",
    "@app.route('/usr')\n",
    "def index():\n",
    "    return render_template('./index.html')\n",
    "\n",
    "@app.route('/usr/account')\n",
    "def account():\n",
    "    return render_template('./index.html')\n",
    "\n",
    "@app.route('/usr/login', methods=['POST'])\n",
    "def my_login():\n",
    "    myusr=query_user(request.form['usr'])\n",
    "    if myusr:\n",
    "        if 'key' in request.form.keys():\n",
    "            if qualified(myusr,request.form['key']):\n",
    "                print('in date')\n",
    "                new_key=renew_key(myusr)\n",
    "                response = {'status':0,'key':new_key}\n",
    "                return jsonify(response), 200\n",
    "            print('out of date ')\n",
    "            response = {'status':-1,'key':'out_of_date'}\n",
    "            return jsonify(response), 200\n",
    "        elif 'password' in request.form.keys():\n",
    "            if myusr.password==request.form['password']:\n",
    "                print('real passwd')\n",
    "                new_key=renew_key(myusr)\n",
    "                response = {'status':0,'key':new_key}\n",
    "                return jsonify(response), 200\n",
    "    print('wrong passwd')\n",
    "    response = {'status':-2,'key':'wrong_password'}\n",
    "    return jsonify(response), 200\n",
    "@app.route('/usr/home', methods=['GET'])\n",
    "def my_home():\n",
    "    #loc=request.args['loc']\n",
    "    return  render_template('./home.html')\n",
    "if __name__ == '__main__':\n",
    "    port=80\n",
    "    app.run(host='0.0.0.0', port=port)\n",
    "\n"
   ]
  },
  {
   "cell_type": "code",
   "execution_count": null,
   "metadata": {},
   "outputs": [],
   "source": []
  }
 ],
 "metadata": {
  "kernelspec": {
   "display_name": "Python 3",
   "language": "python",
   "name": "python3"
  },
  "language_info": {
   "codemirror_mode": {
    "name": "ipython",
    "version": 3
   },
   "file_extension": ".py",
   "mimetype": "text/x-python",
   "name": "python",
   "nbconvert_exporter": "python",
   "pygments_lexer": "ipython3",
   "version": "3.6.4"
  }
 },
 "nbformat": 4,
 "nbformat_minor": 4
}
