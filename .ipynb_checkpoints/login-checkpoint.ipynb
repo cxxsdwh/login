{
 "cells": [
  {
   "cell_type": "code",
   "execution_count": 1,
   "metadata": {},
   "outputs": [],
   "source": [
    "import sqlalchemy\n",
    "from sqlalchemy import create_engine,exists\n",
    "engine = create_engine('sqlite:///mydb.db?check_same_thread=False', echo=False)"
   ]
  },
  {
   "cell_type": "code",
   "execution_count": 2,
   "metadata": {},
   "outputs": [],
   "source": [
    "from sqlalchemy.ext.declarative import declarative_base\n",
    "Base = declarative_base()"
   ]
  },
  {
   "cell_type": "code",
   "execution_count": 3,
   "metadata": {},
   "outputs": [],
   "source": [
    "from sqlalchemy import Column, Integer, String\n",
    "class User(Base):\n",
    "    __tablename__ = 'users'\n",
    "    id = Column(Integer, primary_key=True, autoincrement = True,nullable =True)\n",
    "    name = Column(String(50),index=True,unique=True)\n",
    "    password = Column(String(50))\n",
    "    email = Column(String(50))\n",
    "    time = Column(Integer,nullable=True)\n",
    "    def __repr__(self):\n",
    "        return \"<User(name={}, password={},email={},time={})>\".format(\n",
    "        self.name, self.password,self.email,self.time)\n",
    "class Data(Base):\n",
    "    #user data\n",
    "    __tablename__ = 'datas'\n",
    "    id = Column(Integer, primary_key=True,nullable=False)\n",
    "    data = Column(String(1600))\n",
    "    def __repr__(self):\n",
    "        return \"<User(id={}, data={}...)>\".format(\n",
    "        self.id, self.data[:50])"
   ]
  },
  {
   "cell_type": "code",
   "execution_count": 4,
   "metadata": {},
   "outputs": [],
   "source": [
    "User.__table__\n",
    "Base.metadata.create_all(engine, checkfirst=True)"
   ]
  },
  {
   "cell_type": "markdown",
   "metadata": {},
   "source": [
    "try:\n",
    "    c=User(name='e', password='bbb')\n",
    "    session.add(c)\n",
    "    session.commit()\n",
    "except Exception as e:\n",
    "    session.rollback()"
   ]
  },
  {
   "cell_type": "code",
   "execution_count": 2,
   "metadata": {},
   "outputs": [
    {
     "ename": "NameError",
     "evalue": "name 'engine' is not defined",
     "output_type": "error",
     "traceback": [
      "\u001b[0;31m---------------------------------------------------------------------------\u001b[0m",
      "\u001b[0;31mNameError\u001b[0m                                 Traceback (most recent call last)",
      "\u001b[0;32m<ipython-input-2-ed3223d89b0c>\u001b[0m in \u001b[0;36m<module>\u001b[0;34m\u001b[0m\n\u001b[1;32m      4\u001b[0m \u001b[0;32mimport\u001b[0m \u001b[0mhashlib\u001b[0m\u001b[0;34m\u001b[0m\u001b[0m\n\u001b[1;32m      5\u001b[0m \u001b[0;34m\u001b[0m\u001b[0m\n\u001b[0;32m----> 6\u001b[0;31m \u001b[0mSession\u001b[0m \u001b[0;34m=\u001b[0m \u001b[0msessionmaker\u001b[0m\u001b[0;34m(\u001b[0m\u001b[0mbind\u001b[0m\u001b[0;34m=\u001b[0m\u001b[0mengine\u001b[0m\u001b[0;34m)\u001b[0m\u001b[0;34m\u001b[0m\u001b[0m\n\u001b[0m\u001b[1;32m      7\u001b[0m \u001b[0msession\u001b[0m \u001b[0;34m=\u001b[0m \u001b[0mSession\u001b[0m\u001b[0;34m(\u001b[0m\u001b[0;34m)\u001b[0m\u001b[0;34m\u001b[0m\u001b[0m\n\u001b[1;32m      8\u001b[0m \u001b[0;34m\u001b[0m\u001b[0m\n",
      "\u001b[0;31mNameError\u001b[0m: name 'engine' is not defined"
     ]
    }
   ],
   "source": [
    "import hashlib\n",
    "import time\n",
    "from sqlalchemy.orm import sessionmaker\n",
    "import hashlib\n",
    "\n",
    "Session = sessionmaker(bind=engine)\n",
    "session = Session()\n",
    "\n",
    "\n",
    "def myhash(mystr):\n",
    "    m=hashlib.md5()\n",
    "    m.update(mystr.encode(encoding='utf-8'))\n",
    "    return m.hexdigest()\n",
    "\n",
    "def creat_account(name,password,email):\n",
    "    try:\n",
    "        ed_user = User(name=name, password=password,email=email,time=int(time.time()))\n",
    "        session.add(ed_user)\n",
    "        session.commit()\n",
    "        return myhash(str(ed_user.id)+name+mytime)\n",
    "    except Exception as error:\n",
    "        print(error)\n",
    "        session.rollback()\n",
    "        return False\n",
    "def query_user(usr):\n",
    "    return session.query(User).filter_by(name=usr).first()\n",
    "def email_exist(addr):\n",
    "    return session.query(exists().where(User.email==addr)).scalar()\n",
    "def renew_key(myusr,dt=1800):\n",
    "    if time.time() > (myusr.time + dt):\n",
    "        myusr.time=int(time.time())\n",
    "        session.commit()\n",
    "    return myhash(str(myusr.id)+myusr.name+str(myusr.time))\n",
    "def qualified(myusr,key):\n",
    "    real_key=myhash(str(myusr.id)+myusr.name+str(myusr.time))\n",
    "    if (time.time()-myusr.time)<3600 and real_key==key:\n",
    "        return True\n",
    "    return False\n",
    "def query_data(myid):\n",
    "    return session.query(Data).filter_by(id=myid).first()\n",
    "def update_data(myid,mystr):\n",
    "    assert len(mystr)==1600\n",
    "    tmp=session.query(Data).filter_by(id=myid).first()\n",
    "    if tmp:\n",
    "        tmp.data=mystr\n",
    "        session.commit()\n",
    "    else:\n",
    "        tmp=Data(id=myid,data=mystr)\n",
    "        session.add(tmp)\n",
    "        session.commit()"
   ]
  },
  {
   "cell_type": "code",
   "execution_count": 6,
   "metadata": {},
   "outputs": [
    {
     "data": {
      "text/plain": [
       "False"
      ]
     },
     "execution_count": 6,
     "metadata": {},
     "output_type": "execute_result"
    }
   ],
   "source": [
    "email_exist(\"64465@163.com\")"
   ]
  },
  {
   "cell_type": "code",
   "execution_count": 7,
   "metadata": {},
   "outputs": [
    {
     "data": {
      "text/plain": [
       "True"
      ]
     },
     "execution_count": 7,
     "metadata": {},
     "output_type": "execute_result"
    }
   ],
   "source": [
    "creat_account('tourist','','chen@econometrica.cn')"
   ]
  },
  {
   "cell_type": "code",
   "execution_count": 4,
   "metadata": {},
   "outputs": [
    {
     "data": {
      "text/plain": [
       "<User(name=cxxfish, password=cxx19990104,email=70464465@163.com,time=1588171248)>"
      ]
     },
     "execution_count": 4,
     "metadata": {},
     "output_type": "execute_result"
    }
   ],
   "source": [
    "query_user('cxxfish')"
   ]
  },
  {
   "cell_type": "code",
   "execution_count": 11,
   "metadata": {},
   "outputs": [],
   "source": [
    "import numpy as np\n",
    "update_data(1,np.zeros(125,dtype=int).tostring())"
   ]
  },
  {
   "cell_type": "code",
   "execution_count": 18,
   "metadata": {},
   "outputs": [
    {
     "data": {
      "text/plain": [
       "4294967296"
      ]
     },
     "execution_count": 18,
     "metadata": {},
     "output_type": "execute_result"
    }
   ],
   "source": [
    "2**32"
   ]
  },
  {
   "cell_type": "code",
   "execution_count": 1,
   "metadata": {},
   "outputs": [],
   "source": [
    "import numpy as np\n",
    "import time\n",
    "mail_n=100\n",
    "mail_dt=3600\n",
    "mail_ls=['' for i in range(mail_n)]\n",
    "mail_key=np.zeros(mail_n,dtype=int)\n",
    "mail_time=np.zeros(mail_n,dtype=int)\n",
    "def push_mail(addr):\n",
    "    if addr in mail_ls:\n",
    "        tmp_n= mail_ls.index(addr)\n",
    "    else:\n",
    "        tmp_n=np.argmin(mail_time)\n",
    "        mail_ls[tmp_n]=addr\n",
    "    key_int=np.random.randint(0,1000000)\n",
    "    key_str=\"{:06d}\".format(key_int)\n",
    "    mail_key[tmp_n]=key_int\n",
    "    mail_time[tmp_n]=int(time.time())\n",
    "    return key_str\n",
    "def check_mail(addr,key):\n",
    "    if addr not in mail_ls:\n",
    "        return False\n",
    "    tmp_n= mail_ls.index(addr)\n",
    "    if mail_key[tmp_n]==int(key) and (int(time.time())-mail_time[tmp_n])<mail_dt:\n",
    "        return True\n",
    "    return False"
   ]
  },
  {
   "cell_type": "code",
   "execution_count": 20,
   "metadata": {},
   "outputs": [
    {
     "data": {
      "text/plain": [
       "'9c715867533a844c953c39f18ca263d1'"
      ]
     },
     "execution_count": 20,
     "metadata": {},
     "output_type": "execute_result"
    }
   ],
   "source": [
    "create_account(name=\"tourist\",password=\"\",email=\"\",myip=\"\")"
   ]
  },
  {
   "cell_type": "code",
   "execution_count": 26,
   "metadata": {},
   "outputs": [
    {
     "name": "stdout",
     "output_type": "stream",
     "text": [
      " * Serving Flask app \"__main__\" (lazy loading)\n",
      " * Environment: production\n",
      "   WARNING: Do not use the development server in a production environment.\n",
      "   Use a production WSGI server instead.\n",
      " * Debug mode: off\n"
     ]
    },
    {
     "name": "stderr",
     "output_type": "stream",
     "text": [
      " * Running on http://0.0.0.0:80/ (Press CTRL+C to quit)\n",
      "127.0.0.1 - - [04/May/2020 21:01:25] \"\u001b[37mGET /usr/test HTTP/1.1\u001b[0m\" 200 -\n",
      "127.0.0.1 - - [04/May/2020 21:01:26] \"\u001b[37mGET /usr/protected/diary.html?key=64065e8cdc4eed0595e594f84b52c1b2&usr=tourist HTTP/1.1\u001b[0m\" 200 -\n",
      "127.0.0.1 - - [04/May/2020 21:01:27] \"\u001b[33mGET /favicon.ico HTTP/1.1\u001b[0m\" 404 -\n"
     ]
    },
    {
     "name": "stdout",
     "output_type": "stream",
     "text": [
      "tourist 64065e8cdc4eed0595e594f84b52c1b2\n",
      "ok\n"
     ]
    }
   ],
   "source": [
    "import os\n",
    "import sys\n",
    "sys.path.insert(0,os.getcwd())\n",
    "\n",
    "from usr_utils import *\n",
    "from mail_utils import *\n",
    "from quest_utils import *\n",
    "\n",
    "from flask import Flask, jsonify, request, render_template,Response,redirect,abort\n",
    "from flask_cors import CORS\n",
    "import imageio\n",
    "import numpy as np\n",
    "import time\n",
    "# Instantiate the Node\n",
    "\n",
    "app = Flask(__name__)\n",
    "CORS(app)\n",
    "\n",
    "@app.route('/usr/')\n",
    "def index():\n",
    "    return render_template('./index.html')\n",
    "@app.route('/usr/test')\n",
    "#def test():\n",
    "    #abort(404)\n",
    "#    return render_template('./test.html')\n",
    "\n",
    "@app.route('/usr/create')#创建用户页面\n",
    "def create():\n",
    "    return render_template('./create.html')\n",
    "last_send=0\n",
    "@app.route('/usr/sendMail',methods=['POST'])#创建用户口\n",
    "def send():\n",
    "    global last_send\n",
    "    if not email_exist(request.form['addr']):\n",
    "        cur_time=time.time()\n",
    "        if (cur_time-last_send)>60:\n",
    "            last_send=cur_time\n",
    "            mail_key = push_mail(request.form['addr'])\n",
    "            send_mail(key=mail_key,to=request.form['addr'])\n",
    "            response = {'status':0}\n",
    "        else:\n",
    "            response = {'status':-2,'key':\"邮箱冷却中，稍后再试\"}\n",
    "    else:\n",
    "        response = {'status':-1,'key':\"Email have been used\"}\n",
    "    return jsonify(response),200\n",
    "@app.route('/usr/createUsr',methods=['POST'])#创建用户口\n",
    "def create_usr():\n",
    "    #print(request.form.keys())\n",
    "    if check_mail(request.form['addr'],request.form['mail_key']):\n",
    "        tmp = create_account(name=request.form['usr'],password=request.form['password'],\n",
    "                      email=request.form['addr'],myip=request.remote_addr)\n",
    "        if tmp:\n",
    "            response = {'status':0,'key':tmp}\n",
    "        else:\n",
    "            response = {'status':-1,'key':\"account already exist\"}\n",
    "    else:\n",
    "        response = {'status':-2,'key':\"验证码错误\"}\n",
    "    return jsonify(response),200\n",
    "\n",
    "@app.route('/usr/login', methods=['POST'])#登陆口\n",
    "def my_login():\n",
    "    myusr=query_user(request.form['usr'])\n",
    "    if myusr:\n",
    "        if 'key' in request.form.keys():\n",
    "            if qualified(myusr,request.remote_addr,request.form['key']):\n",
    "                print('in date')\n",
    "                new_key=renew_key(myusr,request.remote_addr)\n",
    "                response = {'status':0,'key':new_key}\n",
    "            else:\n",
    "                print('out of date ')\n",
    "                response = {'status':-1,'key':'out_of_date'}\n",
    "        elif 'password' in request.form.keys():\n",
    "            if myusr.password==request.form['password']:\n",
    "                print('real passwd')\n",
    "                new_key=renew_key(myusr,request.remote_addr)\n",
    "                response = {'status':0,'key':new_key}\n",
    "            else:\n",
    "                print('wrong passwd')\n",
    "                response = {'status':-2,'key':'账户或密码错误'}\n",
    "    else:\n",
    "        print('not exist')\n",
    "        response = {'status':-2,'key':'账户或密码错误'}\n",
    "    return jsonify(response), 200\n",
    "@app.route('/usr/home', methods=['GET'])#登陆后主页\n",
    "def my_home():\n",
    "    #loc=request.args['loc']\n",
    "    return  render_template('./home.html')\n",
    "@app.route('/usr/quest', methods=['POST'])#问题请求口\n",
    "def quest():\n",
    "    myusr=query_user(request.form['usr'])\n",
    "    if myusr:\n",
    "        if qualified(myusr,request.remote_addr,request.form['key']):\n",
    "            tmp=query_quest().filter_by(subject=request.form['subject'])\n",
    "            res=tmp[np.random.randint(0,tmp.count())].__dict__\n",
    "            res.pop('_sa_instance_state', None)\n",
    "            res.update({\"status\":0})\n",
    "        else:\n",
    "            res={{\"status\":-1}}\n",
    "    else:\n",
    "        res = {'status':-2,'key':'账户或密码错误'}\n",
    "    return  jsonify(res),200\n",
    "@app.route('/usr/protected/<fname>',methods=['GET'])\n",
    "def get_protected(fname):\n",
    "    if (\"key\" in request.args.keys()) and (\"usr\" in request.args.keys()):\n",
    "        print(request.args['usr'],request.args['key'])\n",
    "        myusr=query_user(request.args['usr'])\n",
    "        if myusr:\n",
    "            if qualified(myusr,request.remote_addr,request.args['key']):\n",
    "                print(\"ok\")\n",
    "                return render_template('./protected/'+fname)\n",
    "            else:\n",
    "                return redirect('/usr')\n",
    "        else:\n",
    "            abort(404)\n",
    "    else: \n",
    "        abort(404)\n",
    "if __name__ == '__main__':\n",
    "    port=80\n",
    "    app.run(host='0.0.0.0', port=port)\n",
    "\n",
    "\n"
   ]
  },
  {
   "cell_type": "code",
   "execution_count": 12,
   "metadata": {},
   "outputs": [],
   "source": [
    "import smtplib\n",
    "from email.mime.text import MIMEText\n",
    "from email.header import Header\n",
    "def send_mail(key,to):\n",
    "    pw='Cxx@990104'\n",
    "    port=465\n",
    "    server_name='smtp.exmail.qq.com'\n",
    "    me='master@econometrica.cn'\n",
    "    you = to\n",
    "    text=\"验证码:\"+str(key)\n",
    "    msg = MIMEText(text, 'plain')\n",
    "    msg['From'] = Header('\"Chen\" <'+me+'>')\n",
    "    msg['To'] = Header(you)\n",
    "    msg['Subject'] = Header(\"验证码\",'utf-8')#subjec\n",
    "    server = smtplib.SMTP_SSL()\n",
    "    server.connect(server_name,port)\n",
    "    server.login(me, pw)\n",
    "    server.sendmail(me, you, msg.as_string())\n",
    "    server.quit()"
   ]
  },
  {
   "cell_type": "code",
   "execution_count": 1,
   "metadata": {},
   "outputs": [
    {
     "data": {
      "text/plain": [
       "['/Library/Frameworks/Python.framework/Versions/3.6/lib/python36.zip',\n",
       " '/Library/Frameworks/Python.framework/Versions/3.6/lib/python3.6',\n",
       " '/Library/Frameworks/Python.framework/Versions/3.6/lib/python3.6/lib-dynload',\n",
       " '',\n",
       " '/Library/Frameworks/Python.framework/Versions/3.6/lib/python3.6/site-packages',\n",
       " '/Library/Frameworks/Python.framework/Versions/3.6/lib/python3.6/site-packages/IPython/extensions',\n",
       " '/Users/chenxiaoxuan/.ipython']"
      ]
     },
     "execution_count": 1,
     "metadata": {},
     "output_type": "execute_result"
    }
   ],
   "source": [
    "import sys\n",
    "sys.path"
   ]
  },
  {
   "cell_type": "code",
   "execution_count": 25,
   "metadata": {},
   "outputs": [
    {
     "data": {
      "text/plain": [
       "True"
      ]
     },
     "execution_count": 25,
     "metadata": {},
     "output_type": "execute_result"
    }
   ],
   "source": [
    "\".html\" in \"aa.html\""
   ]
  },
  {
   "cell_type": "code",
   "execution_count": null,
   "metadata": {},
   "outputs": [],
   "source": []
  }
 ],
 "metadata": {
  "kernelspec": {
   "display_name": "Python 3",
   "language": "python",
   "name": "python3"
  },
  "language_info": {
   "codemirror_mode": {
    "name": "ipython",
    "version": 3
   },
   "file_extension": ".py",
   "mimetype": "text/x-python",
   "name": "python",
   "nbconvert_exporter": "python",
   "pygments_lexer": "ipython3",
   "version": "3.6.4"
  }
 },
 "nbformat": 4,
 "nbformat_minor": 4
}
